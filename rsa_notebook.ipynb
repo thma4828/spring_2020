{
 "cells": [
  {
   "cell_type": "code",
   "execution_count": 15,
   "metadata": {},
   "outputs": [],
   "source": [
    "import numpy as np"
   ]
  },
  {
   "cell_type": "code",
   "execution_count": 61,
   "metadata": {},
   "outputs": [],
   "source": [
    "def sieve(n):\n",
    "    m = int(np.sqrt(n))\n",
    "    low = [j for j in range(2, int(np.sqrt(n))+1)]\n",
    "    for z in range(2, m):\n",
    "        low = [k for k in low if ((k % z) != 0 and k != z) or (k == z)]\n",
    "    upper = m\n",
    "    for i in range(int(m + 2)):\n",
    "        if i*i > n:\n",
    "            upper = i\n",
    "    vals = [j for j in range(n)]\n",
    "    for j in range(2, upper):\n",
    "        vals = [k for k in vals if (k % j) != 0 and k != z]\n",
    "    \n",
    "    return low + vals[1:]            "
   ]
  },
  {
   "cell_type": "code",
   "execution_count": 62,
   "metadata": {},
   "outputs": [
    {
     "data": {
      "text/plain": [
       "[2,\n",
       " 3,\n",
       " 5,\n",
       " 7,\n",
       " 11,\n",
       " 13,\n",
       " 17,\n",
       " 19,\n",
       " 23,\n",
       " 29,\n",
       " 31,\n",
       " 37,\n",
       " 41,\n",
       " 43,\n",
       " 47,\n",
       " 53,\n",
       " 59,\n",
       " 61,\n",
       " 67,\n",
       " 71,\n",
       " 73,\n",
       " 79,\n",
       " 83,\n",
       " 89,\n",
       " 97,\n",
       " 101,\n",
       " 103,\n",
       " 107,\n",
       " 109,\n",
       " 113,\n",
       " 127,\n",
       " 131,\n",
       " 137,\n",
       " 139,\n",
       " 149,\n",
       " 151,\n",
       " 157,\n",
       " 163,\n",
       " 167,\n",
       " 173,\n",
       " 179,\n",
       " 181,\n",
       " 191,\n",
       " 193,\n",
       " 197,\n",
       " 199,\n",
       " 211,\n",
       " 223,\n",
       " 227,\n",
       " 229,\n",
       " 233,\n",
       " 239,\n",
       " 241,\n",
       " 251,\n",
       " 257,\n",
       " 263,\n",
       " 269,\n",
       " 271,\n",
       " 277,\n",
       " 281,\n",
       " 283,\n",
       " 293,\n",
       " 307,\n",
       " 311,\n",
       " 313,\n",
       " 317,\n",
       " 331,\n",
       " 337,\n",
       " 347,\n",
       " 349,\n",
       " 353,\n",
       " 359,\n",
       " 367,\n",
       " 373,\n",
       " 379,\n",
       " 383,\n",
       " 389,\n",
       " 397,\n",
       " 401,\n",
       " 409,\n",
       " 419,\n",
       " 421,\n",
       " 431,\n",
       " 433,\n",
       " 439,\n",
       " 443,\n",
       " 449,\n",
       " 457,\n",
       " 461,\n",
       " 463,\n",
       " 467,\n",
       " 479,\n",
       " 487,\n",
       " 491,\n",
       " 499,\n",
       " 503,\n",
       " 509,\n",
       " 521,\n",
       " 523,\n",
       " 541,\n",
       " 547,\n",
       " 557,\n",
       " 563,\n",
       " 569,\n",
       " 571,\n",
       " 577,\n",
       " 587,\n",
       " 593,\n",
       " 599,\n",
       " 601,\n",
       " 607,\n",
       " 613,\n",
       " 617,\n",
       " 619,\n",
       " 631,\n",
       " 641,\n",
       " 643,\n",
       " 647,\n",
       " 653,\n",
       " 659,\n",
       " 661,\n",
       " 673,\n",
       " 677,\n",
       " 683,\n",
       " 691,\n",
       " 701,\n",
       " 709,\n",
       " 719,\n",
       " 727,\n",
       " 733,\n",
       " 739,\n",
       " 743,\n",
       " 751,\n",
       " 757,\n",
       " 761,\n",
       " 769,\n",
       " 773,\n",
       " 787,\n",
       " 797,\n",
       " 809,\n",
       " 811,\n",
       " 821,\n",
       " 823,\n",
       " 827,\n",
       " 829,\n",
       " 839,\n",
       " 853,\n",
       " 857,\n",
       " 859,\n",
       " 863,\n",
       " 877,\n",
       " 881,\n",
       " 883,\n",
       " 887,\n",
       " 907,\n",
       " 911,\n",
       " 919,\n",
       " 929,\n",
       " 937,\n",
       " 941,\n",
       " 947,\n",
       " 953,\n",
       " 967,\n",
       " 971,\n",
       " 977,\n",
       " 983,\n",
       " 991,\n",
       " 997]"
      ]
     },
     "execution_count": 62,
     "metadata": {},
     "output_type": "execute_result"
    }
   ],
   "source": [
    "sieve(1000)"
   ]
  },
  {
   "cell_type": "code",
   "execution_count": 1,
   "metadata": {},
   "outputs": [
    {
     "name": "stdout",
     "output_type": "stream",
     "text": [
      "635029 633420\n"
     ]
    }
   ],
   "source": [
    "P = 919\n",
    "Q = 691\n",
    "N = P * Q\n",
    "Z = (P-1)*(Q-1)\n",
    "\n",
    "print(N, Z)"
   ]
  },
  {
   "cell_type": "code",
   "execution_count": 8,
   "metadata": {},
   "outputs": [
    {
     "name": "stdout",
     "output_type": "stream",
     "text": [
      "103 485827\n"
     ]
    }
   ],
   "source": [
    "#need to find e, e<n e has no comman factors other than 1 with z ( relative prime with z)\n",
    "\n",
    "E = 103\n",
    "\n",
    "#need to find a number D such that ed - 1 is exactly divisible by z \n",
    "D = 0\n",
    "for d in range(1, 999999):\n",
    "    if ((E*d) - 1) % Z == 0:\n",
    "        D = d\n",
    "\n",
    "print(E, D)\n",
    "        \n",
    "    "
   ]
  },
  {
   "cell_type": "code",
   "execution_count": 13,
   "metadata": {},
   "outputs": [
    {
     "name": "stdout",
     "output_type": "stream",
     "text": [
      "P = 919, Q = 691, N = 635029, Z = 633420, E = 103, D = 485827\n"
     ]
    }
   ],
   "source": [
    "print(\"P = 919, Q = 691, N = 635029, Z = 633420, E = 103, D = 485827\")"
   ]
  },
  {
   "cell_type": "code",
   "execution_count": 30,
   "metadata": {},
   "outputs": [
    {
     "name": "stdout",
     "output_type": "stream",
     "text": [
      "116 104\n",
      "105 115\n",
      "032 105\n",
      "115 032\n",
      "97 32\n",
      "115 116\n",
      "117 112\n",
      "105 100\n",
      "032 109\n",
      "101 115\n",
      "115 097\n",
      "103 101\n"
     ]
    }
   ],
   "source": [
    "def encode_message_bits(message_text):\n",
    "    vec = []\n",
    "    for i in range(0, len(message_text) - 1, 2):\n",
    "        c1 = message_text[i]\n",
    "        c2 = message_text[i+1]\n",
    "        b = ord(c1)\n",
    "        b1 = ord(c2)\n",
    "        sb1 = str(b)\n",
    "        sb2 = str(b1)\n",
    "        while(len(sb1) != len(sb2)):\n",
    "            if len(sb1) < len(sb2):\n",
    "                sb1 = '0' + sb1\n",
    "            else:\n",
    "                sb2 = '0' + sb2\n",
    "        print(sb1, sb2)\n",
    "        vec.append(str(str(sb1) + str(sb2)))\n",
    "    return vec\n",
    "\n",
    "\n",
    "bits = encode_message_bits(list(\"this is a stupid message\"))\n",
    "        "
   ]
  },
  {
   "cell_type": "code",
   "execution_count": 32,
   "metadata": {},
   "outputs": [
    {
     "data": {
      "text/plain": [
       "['116104',\n",
       " '105115',\n",
       " '032105',\n",
       " '115032',\n",
       " '9732',\n",
       " '115116',\n",
       " '117112',\n",
       " '105100',\n",
       " '032109',\n",
       " '101115',\n",
       " '115097',\n",
       " '103101']"
      ]
     },
     "execution_count": 32,
     "metadata": {},
     "output_type": "execute_result"
    }
   ],
   "source": [
    "bits"
   ]
  },
  {
   "cell_type": "code",
   "execution_count": 33,
   "metadata": {},
   "outputs": [],
   "source": [
    "ciphers = [(int(m)**E) % N for m in bits] "
   ]
  },
  {
   "cell_type": "code",
   "execution_count": 34,
   "metadata": {},
   "outputs": [
    {
     "data": {
      "text/plain": [
       "[519021,\n",
       " 167945,\n",
       " 291509,\n",
       " 182156,\n",
       " 409497,\n",
       " 393687,\n",
       " 406891,\n",
       " 332598,\n",
       " 533127,\n",
       " 371179,\n",
       " 515606,\n",
       " 25676]"
      ]
     },
     "execution_count": 34,
     "metadata": {},
     "output_type": "execute_result"
    }
   ],
   "source": [
    "ciphers"
   ]
  },
  {
   "cell_type": "code",
   "execution_count": 35,
   "metadata": {},
   "outputs": [],
   "source": [
    "decryptions = [(c**D) % N for c in ciphers]"
   ]
  },
  {
   "cell_type": "code",
   "execution_count": 36,
   "metadata": {},
   "outputs": [
    {
     "data": {
      "text/plain": [
       "[116104,\n",
       " 105115,\n",
       " 32105,\n",
       " 115032,\n",
       " 9732,\n",
       " 115116,\n",
       " 117112,\n",
       " 105100,\n",
       " 32109,\n",
       " 101115,\n",
       " 115097,\n",
       " 103101]"
      ]
     },
     "execution_count": 36,
     "metadata": {},
     "output_type": "execute_result"
    }
   ],
   "source": [
    "decryptions"
   ]
  },
  {
   "cell_type": "code",
   "execution_count": null,
   "metadata": {},
   "outputs": [],
   "source": []
  }
 ],
 "metadata": {
  "kernelspec": {
   "display_name": "Python 3",
   "language": "python",
   "name": "python3"
  },
  "language_info": {
   "codemirror_mode": {
    "name": "ipython",
    "version": 3
   },
   "file_extension": ".py",
   "mimetype": "text/x-python",
   "name": "python",
   "nbconvert_exporter": "python",
   "pygments_lexer": "ipython3",
   "version": "3.6.9"
  }
 },
 "nbformat": 4,
 "nbformat_minor": 2
}
